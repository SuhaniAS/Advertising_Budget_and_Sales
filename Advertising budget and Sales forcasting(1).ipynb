{
 "cells": [
  {
   "cell_type": "markdown",
   "id": "2d3e62fe",
   "metadata": {},
   "source": [
    "# Advertising Budget and Sales Forecasting"
   ]
  },
  {
   "cell_type": "markdown",
   "id": "c0285931",
   "metadata": {},
   "source": [
    "### Analyse which of the variable is more influencing Sales and predict the sales for new data"
   ]
  },
  {
   "cell_type": "code",
   "execution_count": 44,
   "id": "ff99b66b",
   "metadata": {},
   "outputs": [
    {
     "data": {
      "text/html": [
       "<div>\n",
       "<style scoped>\n",
       "    .dataframe tbody tr th:only-of-type {\n",
       "        vertical-align: middle;\n",
       "    }\n",
       "\n",
       "    .dataframe tbody tr th {\n",
       "        vertical-align: top;\n",
       "    }\n",
       "\n",
       "    .dataframe thead th {\n",
       "        text-align: right;\n",
       "    }\n",
       "</style>\n",
       "<table border=\"1\" class=\"dataframe\">\n",
       "  <thead>\n",
       "    <tr style=\"text-align: right;\">\n",
       "      <th></th>\n",
       "      <th>Day</th>\n",
       "      <th>TV Ad Budget ($)</th>\n",
       "      <th>Radio Ad Budget ($)</th>\n",
       "      <th>Newspaper Ad Budget ($)</th>\n",
       "      <th>Sales ($)</th>\n",
       "    </tr>\n",
       "  </thead>\n",
       "  <tbody>\n",
       "    <tr>\n",
       "      <th>0</th>\n",
       "      <td>1</td>\n",
       "      <td>230.1</td>\n",
       "      <td>37.8</td>\n",
       "      <td>69.2</td>\n",
       "      <td>22.1</td>\n",
       "    </tr>\n",
       "    <tr>\n",
       "      <th>1</th>\n",
       "      <td>2</td>\n",
       "      <td>44.5</td>\n",
       "      <td>39.3</td>\n",
       "      <td>45.1</td>\n",
       "      <td>10.4</td>\n",
       "    </tr>\n",
       "    <tr>\n",
       "      <th>2</th>\n",
       "      <td>3</td>\n",
       "      <td>17.2</td>\n",
       "      <td>45.9</td>\n",
       "      <td>69.3</td>\n",
       "      <td>9.3</td>\n",
       "    </tr>\n",
       "    <tr>\n",
       "      <th>3</th>\n",
       "      <td>4</td>\n",
       "      <td>151.5</td>\n",
       "      <td>41.3</td>\n",
       "      <td>58.5</td>\n",
       "      <td>18.5</td>\n",
       "    </tr>\n",
       "    <tr>\n",
       "      <th>4</th>\n",
       "      <td>5</td>\n",
       "      <td>180.8</td>\n",
       "      <td>10.8</td>\n",
       "      <td>58.4</td>\n",
       "      <td>12.9</td>\n",
       "    </tr>\n",
       "    <tr>\n",
       "      <th>...</th>\n",
       "      <td>...</td>\n",
       "      <td>...</td>\n",
       "      <td>...</td>\n",
       "      <td>...</td>\n",
       "      <td>...</td>\n",
       "    </tr>\n",
       "    <tr>\n",
       "      <th>195</th>\n",
       "      <td>196</td>\n",
       "      <td>38.2</td>\n",
       "      <td>3.7</td>\n",
       "      <td>13.8</td>\n",
       "      <td>7.6</td>\n",
       "    </tr>\n",
       "    <tr>\n",
       "      <th>196</th>\n",
       "      <td>197</td>\n",
       "      <td>94.2</td>\n",
       "      <td>4.9</td>\n",
       "      <td>8.1</td>\n",
       "      <td>9.7</td>\n",
       "    </tr>\n",
       "    <tr>\n",
       "      <th>197</th>\n",
       "      <td>198</td>\n",
       "      <td>177.0</td>\n",
       "      <td>9.3</td>\n",
       "      <td>6.4</td>\n",
       "      <td>12.8</td>\n",
       "    </tr>\n",
       "    <tr>\n",
       "      <th>198</th>\n",
       "      <td>199</td>\n",
       "      <td>283.6</td>\n",
       "      <td>42.0</td>\n",
       "      <td>66.2</td>\n",
       "      <td>25.5</td>\n",
       "    </tr>\n",
       "    <tr>\n",
       "      <th>199</th>\n",
       "      <td>200</td>\n",
       "      <td>232.1</td>\n",
       "      <td>8.6</td>\n",
       "      <td>8.7</td>\n",
       "      <td>13.4</td>\n",
       "    </tr>\n",
       "  </tbody>\n",
       "</table>\n",
       "<p>200 rows × 5 columns</p>\n",
       "</div>"
      ],
      "text/plain": [
       "     Day  TV Ad Budget ($)  Radio Ad Budget ($)  Newspaper Ad Budget ($)  \\\n",
       "0      1             230.1                 37.8                     69.2   \n",
       "1      2              44.5                 39.3                     45.1   \n",
       "2      3              17.2                 45.9                     69.3   \n",
       "3      4             151.5                 41.3                     58.5   \n",
       "4      5             180.8                 10.8                     58.4   \n",
       "..   ...               ...                  ...                      ...   \n",
       "195  196              38.2                  3.7                     13.8   \n",
       "196  197              94.2                  4.9                      8.1   \n",
       "197  198             177.0                  9.3                      6.4   \n",
       "198  199             283.6                 42.0                     66.2   \n",
       "199  200             232.1                  8.6                      8.7   \n",
       "\n",
       "     Sales ($)  \n",
       "0         22.1  \n",
       "1         10.4  \n",
       "2          9.3  \n",
       "3         18.5  \n",
       "4         12.9  \n",
       "..         ...  \n",
       "195        7.6  \n",
       "196        9.7  \n",
       "197       12.8  \n",
       "198       25.5  \n",
       "199       13.4  \n",
       "\n",
       "[200 rows x 5 columns]"
      ]
     },
     "execution_count": 44,
     "metadata": {},
     "output_type": "execute_result"
    }
   ],
   "source": [
    "#import data\n",
    "import pandas as pd\n",
    "data = pd.read_excel(r\"D:\\Suhani\\Advertising data.xlsx\")\n",
    "data"
   ]
  },
  {
   "cell_type": "code",
   "execution_count": 45,
   "id": "2ee7492d",
   "metadata": {},
   "outputs": [
    {
     "name": "stdout",
     "output_type": "stream",
     "text": [
      "<class 'pandas.core.frame.DataFrame'>\n",
      "RangeIndex: 200 entries, 0 to 199\n",
      "Data columns (total 5 columns):\n",
      " #   Column                   Non-Null Count  Dtype  \n",
      "---  ------                   --------------  -----  \n",
      " 0   Day                      200 non-null    int64  \n",
      " 1   TV Ad Budget ($)         200 non-null    float64\n",
      " 2   Radio Ad Budget ($)      200 non-null    float64\n",
      " 3   Newspaper Ad Budget ($)  200 non-null    float64\n",
      " 4   Sales ($)                200 non-null    float64\n",
      "dtypes: float64(4), int64(1)\n",
      "memory usage: 7.9 KB\n",
      "Information about the data: None\n"
     ]
    }
   ],
   "source": [
    "print(\"Information about the data:\",data.info())"
   ]
  },
  {
   "cell_type": "code",
   "execution_count": 46,
   "id": "29d3b6b5",
   "metadata": {},
   "outputs": [
    {
     "name": "stdout",
     "output_type": "stream",
     "text": [
      "Describing the data:               Day  TV Ad Budget ($)  Radio Ad Budget ($)  \\\n",
      "count  200.000000        200.000000           200.000000   \n",
      "mean   100.500000        147.042500            23.264000   \n",
      "std     57.879185         85.854236            14.846809   \n",
      "min      1.000000          0.700000             0.000000   \n",
      "25%     50.750000         74.375000             9.975000   \n",
      "50%    100.500000        149.750000            22.900000   \n",
      "75%    150.250000        218.825000            36.525000   \n",
      "max    200.000000        296.400000            49.600000   \n",
      "\n",
      "       Newspaper Ad Budget ($)   Sales ($)  \n",
      "count               200.000000  200.000000  \n",
      "mean                 30.554000   14.022500  \n",
      "std                  21.778621    5.217457  \n",
      "min                   0.300000    1.600000  \n",
      "25%                  12.750000   10.375000  \n",
      "50%                  25.750000   12.900000  \n",
      "75%                  45.100000   17.400000  \n",
      "max                 114.000000   27.000000  \n"
     ]
    }
   ],
   "source": [
    "print(\"Describing the data:\",data.describe())"
   ]
  },
  {
   "cell_type": "code",
   "execution_count": 47,
   "id": "9684f8ea",
   "metadata": {},
   "outputs": [
    {
     "data": {
      "image/png": "[encoded data removed]",
      "text/plain": [
       "<Figure size 1500x600 with 4 Axes>"
      ]
     },
     "metadata": {},
     "output_type": "display_data"
    }
   ],
   "source": [
    "#detecting the presence of outliers using boxplot\n",
    "import matplotlib.pyplot as plt\n",
    "plt.figure(figsize=(15,6))\n",
    "\n",
    "plt.subplot(2,2,1)\n",
    "plt.boxplot(data[\"TV Ad Budget ($)\"])\n",
    "plt.title(\"TV Ad Budget\")\n",
    "\n",
    "plt.subplot(2,2,2)\n",
    "plt.boxplot(data[\"Radio Ad Budget ($)\"])\n",
    "plt.title(\"Radio Ad Budget\")\n",
    "\n",
    "plt.subplot(2,2,3)\n",
    "plt.boxplot(data[\"Newspaper Ad Budget ($)\"])\n",
    "plt.title(\"Newspaper Ad Budget\")\n",
    "\n",
    "plt.subplot(2,2,4)\n",
    "plt.boxplot(data[\"Sales ($)\"])\n",
    "plt.title(\"Sales\")\n",
    "\n",
    "plt.show()"
   ]
  },
  {
   "cell_type": "code",
   "execution_count": 48,
   "id": "22b04ac9",
   "metadata": {},
   "outputs": [
    {
     "name": "stdout",
     "output_type": "stream",
     "text": [
      "100.9\n",
      "114.0\n",
      "[  0.3   0.9   1.    1.7   1.8   2.1   2.2   2.4   3.2   3.6   3.6   3.7\n",
      "   4.    5.    5.3   5.4   5.5   5.7   5.8   5.9   6.    6.    6.4   6.4\n",
      "   7.2   7.4   7.4   8.1   8.3   8.4   8.5   8.5   8.7   8.7   8.7   9.\n",
      "   9.2   9.3   9.3   9.3   9.4   9.5  10.2  10.7  10.9  11.   11.6  11.9\n",
      "  12.4  12.6  12.8  12.9  13.1  13.1  13.8  14.2  14.2  14.8  15.6  15.9\n",
      "  16.   16.6  17.   17.6  17.9  18.2  18.3  18.3  18.4  18.5  19.1  19.3\n",
      "  19.4  19.5  19.6  20.3  20.5  20.6  20.7  21.2  21.4  21.4  21.6  22.\n",
      "  22.3  22.3  22.9  22.9  23.1  23.2  23.2  23.4  23.5  23.5  23.7  24.2\n",
      "  24.3  25.6  25.6  25.6  25.9  26.2  26.4  26.6  27.2  27.3  27.4  28.9\n",
      "  29.7  29.7  30.   30.   30.7  31.3  31.5  31.6  31.6  31.7  32.   32.5\n",
      "  33.   33.8  34.4  34.5  34.6  34.6  35.1  35.2  35.6  35.7  36.8  36.9\n",
      "  37.   37.7  37.7  37.9  38.6  38.7  38.7  38.9  39.6  40.8  41.4  41.8\n",
      "  43.   43.1  43.2  43.3  44.3  45.1  45.1  45.2  45.7  45.9  46.   46.2\n",
      "  47.4  48.7  49.3  49.6  49.8  49.9  50.4  50.5  50.6  51.2  51.4  52.7\n",
      "  52.9  52.9  53.4  54.7  55.8  56.5  57.6  58.4  58.5  58.7  59.   59.\n",
      "  59.7  60.   63.2  65.6  65.7  65.9  66.2  69.2  69.3  71.8  72.3  73.4\n",
      "  74.2  75.   75.6  79.2  84.8  89.4 100.9 114. ]\n"
     ]
    }
   ],
   "source": [
    "#Identify the outliers\n",
    "import numpy as np\n",
    "sort_newspaper = np.sort(data[\"Newspaper Ad Budget ($)\"])\n",
    "for i in sort_newspaper:\n",
    "    if i > 90:\n",
    "        print(i)\n",
    "print(sort_newspaper)"
   ]
  },
  {
   "cell_type": "code",
   "execution_count": 49,
   "id": "5f480173",
   "metadata": {},
   "outputs": [
    {
     "name": "stdout",
     "output_type": "stream",
     "text": [
      "new_data shape: (198, 5)\n"
     ]
    },
    {
     "data": {
      "text/html": [
       "<div>\n",
       "<style scoped>\n",
       "    .dataframe tbody tr th:only-of-type {\n",
       "        vertical-align: middle;\n",
       "    }\n",
       "\n",
       "    .dataframe tbody tr th {\n",
       "        vertical-align: top;\n",
       "    }\n",
       "\n",
       "    .dataframe thead th {\n",
       "        text-align: right;\n",
       "    }\n",
       "</style>\n",
       "<table border=\"1\" class=\"dataframe\">\n",
       "  <thead>\n",
       "    <tr style=\"text-align: right;\">\n",
       "      <th></th>\n",
       "      <th>Day</th>\n",
       "      <th>TV Ad Budget ($)</th>\n",
       "      <th>Radio Ad Budget ($)</th>\n",
       "      <th>Newspaper Ad Budget ($)</th>\n",
       "      <th>Sales ($)</th>\n",
       "    </tr>\n",
       "  </thead>\n",
       "  <tbody>\n",
       "    <tr>\n",
       "      <th>33</th>\n",
       "      <td>34</td>\n",
       "      <td>265.6</td>\n",
       "      <td>20.0</td>\n",
       "      <td>0.3</td>\n",
       "      <td>17.4</td>\n",
       "    </tr>\n",
       "    <tr>\n",
       "      <th>65</th>\n",
       "      <td>66</td>\n",
       "      <td>69.0</td>\n",
       "      <td>9.3</td>\n",
       "      <td>0.9</td>\n",
       "      <td>9.3</td>\n",
       "    </tr>\n",
       "    <tr>\n",
       "      <th>8</th>\n",
       "      <td>9</td>\n",
       "      <td>8.6</td>\n",
       "      <td>2.1</td>\n",
       "      <td>1.0</td>\n",
       "      <td>4.8</td>\n",
       "    </tr>\n",
       "    <tr>\n",
       "      <th>139</th>\n",
       "      <td>140</td>\n",
       "      <td>184.9</td>\n",
       "      <td>43.9</td>\n",
       "      <td>1.7</td>\n",
       "      <td>20.7</td>\n",
       "    </tr>\n",
       "    <tr>\n",
       "      <th>42</th>\n",
       "      <td>43</td>\n",
       "      <td>293.6</td>\n",
       "      <td>27.7</td>\n",
       "      <td>1.8</td>\n",
       "      <td>20.7</td>\n",
       "    </tr>\n",
       "    <tr>\n",
       "      <th>...</th>\n",
       "      <td>...</td>\n",
       "      <td>...</td>\n",
       "      <td>...</td>\n",
       "      <td>...</td>\n",
       "      <td>...</td>\n",
       "    </tr>\n",
       "    <tr>\n",
       "      <th>5</th>\n",
       "      <td>6</td>\n",
       "      <td>8.7</td>\n",
       "      <td>48.9</td>\n",
       "      <td>75.0</td>\n",
       "      <td>7.2</td>\n",
       "    </tr>\n",
       "    <tr>\n",
       "      <th>141</th>\n",
       "      <td>142</td>\n",
       "      <td>193.7</td>\n",
       "      <td>35.4</td>\n",
       "      <td>75.6</td>\n",
       "      <td>19.2</td>\n",
       "    </tr>\n",
       "    <tr>\n",
       "      <th>118</th>\n",
       "      <td>119</td>\n",
       "      <td>125.7</td>\n",
       "      <td>36.9</td>\n",
       "      <td>79.2</td>\n",
       "      <td>15.9</td>\n",
       "    </tr>\n",
       "    <tr>\n",
       "      <th>165</th>\n",
       "      <td>166</td>\n",
       "      <td>234.5</td>\n",
       "      <td>3.4</td>\n",
       "      <td>84.8</td>\n",
       "      <td>11.9</td>\n",
       "    </tr>\n",
       "    <tr>\n",
       "      <th>75</th>\n",
       "      <td>76</td>\n",
       "      <td>16.9</td>\n",
       "      <td>43.7</td>\n",
       "      <td>89.4</td>\n",
       "      <td>8.7</td>\n",
       "    </tr>\n",
       "  </tbody>\n",
       "</table>\n",
       "<p>198 rows × 5 columns</p>\n",
       "</div>"
      ],
      "text/plain": [
       "     Day  TV Ad Budget ($)  Radio Ad Budget ($)  Newspaper Ad Budget ($)  \\\n",
       "33    34             265.6                 20.0                      0.3   \n",
       "65    66              69.0                  9.3                      0.9   \n",
       "8      9               8.6                  2.1                      1.0   \n",
       "139  140             184.9                 43.9                      1.7   \n",
       "42    43             293.6                 27.7                      1.8   \n",
       "..   ...               ...                  ...                      ...   \n",
       "5      6               8.7                 48.9                     75.0   \n",
       "141  142             193.7                 35.4                     75.6   \n",
       "118  119             125.7                 36.9                     79.2   \n",
       "165  166             234.5                  3.4                     84.8   \n",
       "75    76              16.9                 43.7                     89.4   \n",
       "\n",
       "     Sales ($)  \n",
       "33        17.4  \n",
       "65         9.3  \n",
       "8          4.8  \n",
       "139       20.7  \n",
       "42        20.7  \n",
       "..         ...  \n",
       "5          7.2  \n",
       "141       19.2  \n",
       "118       15.9  \n",
       "165       11.9  \n",
       "75         8.7  \n",
       "\n",
       "[198 rows x 5 columns]"
      ]
     },
     "execution_count": 49,
     "metadata": {},
     "output_type": "execute_result"
    }
   ],
   "source": [
    "#Trimming of data\n",
    "new_data = data[data[\"Newspaper Ad Budget ($)\"]<90]\n",
    "print(\"new_data shape:\",new_data.shape)\n",
    "new_data_sort=new_data.sort_values(\"Newspaper Ad Budget ($)\")\n",
    "new_data_sort"
   ]
  },
  {
   "cell_type": "code",
   "execution_count": 50,
   "id": "7c179f69",
   "metadata": {},
   "outputs": [
    {
     "data": {
      "image/png": "[encoded data removed]",
      "text/plain": [
       "<Figure size 900x300 with 1 Axes>"
      ]
     },
     "metadata": {},
     "output_type": "display_data"
    }
   ],
   "source": [
    "#Check for outliers in new_data[\"Newspaper Ad Budget ($)\"]\n",
    "plt.figure(figsize=(9,3))\n",
    "plt.boxplot(new_data[\"Newspaper Ad Budget ($)\"])\n",
    "plt.title(\"Newspaper Ad Budget\")\n",
    "plt.show()"
   ]
  },
  {
   "cell_type": "code",
   "execution_count": 51,
   "id": "e3930389",
   "metadata": {},
   "outputs": [
    {
     "name": "stdout",
     "output_type": "stream",
     "text": [
      "Correlation of Sales and Independent variables:\n"
     ]
    },
    {
     "data": {
      "text/html": [
       "<div>\n",
       "<style scoped>\n",
       "    .dataframe tbody tr th:only-of-type {\n",
       "        vertical-align: middle;\n",
       "    }\n",
       "\n",
       "    .dataframe tbody tr th {\n",
       "        vertical-align: top;\n",
       "    }\n",
       "\n",
       "    .dataframe thead th {\n",
       "        text-align: right;\n",
       "    }\n",
       "</style>\n",
       "<table border=\"1\" class=\"dataframe\">\n",
       "  <thead>\n",
       "    <tr style=\"text-align: right;\">\n",
       "      <th></th>\n",
       "      <th>Day</th>\n",
       "      <th>TV Ad Budget ($)</th>\n",
       "      <th>Radio Ad Budget ($)</th>\n",
       "      <th>Newspaper Ad Budget ($)</th>\n",
       "      <th>Sales ($)</th>\n",
       "    </tr>\n",
       "  </thead>\n",
       "  <tbody>\n",
       "    <tr>\n",
       "      <th>Day</th>\n",
       "      <td>1.000000</td>\n",
       "      <td>0.010991</td>\n",
       "      <td>-0.105193</td>\n",
       "      <td>-0.137040</td>\n",
       "      <td>-0.054703</td>\n",
       "    </tr>\n",
       "    <tr>\n",
       "      <th>TV Ad Budget ($)</th>\n",
       "      <td>0.010991</td>\n",
       "      <td>1.000000</td>\n",
       "      <td>0.051978</td>\n",
       "      <td>0.049771</td>\n",
       "      <td>0.779121</td>\n",
       "    </tr>\n",
       "    <tr>\n",
       "      <th>Radio Ad Budget ($)</th>\n",
       "      <td>-0.105193</td>\n",
       "      <td>0.051978</td>\n",
       "      <td>1.000000</td>\n",
       "      <td>0.346364</td>\n",
       "      <td>0.576748</td>\n",
       "    </tr>\n",
       "    <tr>\n",
       "      <th>Newspaper Ad Budget ($)</th>\n",
       "      <td>-0.137040</td>\n",
       "      <td>0.049771</td>\n",
       "      <td>0.346364</td>\n",
       "      <td>1.000000</td>\n",
       "      <td>0.219555</td>\n",
       "    </tr>\n",
       "    <tr>\n",
       "      <th>Sales ($)</th>\n",
       "      <td>-0.054703</td>\n",
       "      <td>0.779121</td>\n",
       "      <td>0.576748</td>\n",
       "      <td>0.219555</td>\n",
       "      <td>1.000000</td>\n",
       "    </tr>\n",
       "  </tbody>\n",
       "</table>\n",
       "</div>"
      ],
      "text/plain": [
       "                              Day  TV Ad Budget ($)  Radio Ad Budget ($)  \\\n",
       "Day                      1.000000          0.010991            -0.105193   \n",
       "TV Ad Budget ($)         0.010991          1.000000             0.051978   \n",
       "Radio Ad Budget ($)     -0.105193          0.051978             1.000000   \n",
       "Newspaper Ad Budget ($) -0.137040          0.049771             0.346364   \n",
       "Sales ($)               -0.054703          0.779121             0.576748   \n",
       "\n",
       "                         Newspaper Ad Budget ($)  Sales ($)  \n",
       "Day                                    -0.137040  -0.054703  \n",
       "TV Ad Budget ($)                        0.049771   0.779121  \n",
       "Radio Ad Budget ($)                     0.346364   0.576748  \n",
       "Newspaper Ad Budget ($)                 1.000000   0.219555  \n",
       "Sales ($)                               0.219555   1.000000  "
      ]
     },
     "execution_count": 51,
     "metadata": {},
     "output_type": "execute_result"
    }
   ],
   "source": [
    "#Correlation of Sales with corresponding independent variable\n",
    "print(\"Correlation of Sales and Independent variables:\")\n",
    "new_data.corr()"
   ]
  },
  {
   "cell_type": "code",
   "execution_count": 52,
   "id": "c604fac0",
   "metadata": {},
   "outputs": [],
   "source": [
    "#Trimed data\n",
    "X = new_data.drop(['Day','Sales ($)'], axis=1)\n",
    "y_1 = new_data['Sales ($)']"
   ]
  },
  {
   "cell_type": "code",
   "execution_count": 54,
   "id": "715a4de0",
   "metadata": {},
   "outputs": [
    {
     "data": {
      "text/html": [
       "<table class=\"simpletable\">\n",
       "<caption>OLS Regression Results</caption>\n",
       "<tr>\n",
       "  <th>Dep. Variable:</th>        <td>Sales ($)</td>    <th>  R-squared:         </th> <td>   0.895</td>\n",
       "</tr>\n",
       "<tr>\n",
       "  <th>Model:</th>                   <td>OLS</td>       <th>  Adj. R-squared:    </th> <td>   0.894</td>\n",
       "</tr>\n",
       "<tr>\n",
       "  <th>Method:</th>             <td>Least Squares</td>  <th>  F-statistic:       </th> <td>   553.5</td>\n",
       "</tr>\n",
       "<tr>\n",
       "  <th>Date:</th>             <td>Mon, 20 Nov 2023</td> <th>  Prob (F-statistic):</th> <td>8.35e-95</td>\n",
       "</tr>\n",
       "<tr>\n",
       "  <th>Time:</th>                 <td>11:12:58</td>     <th>  Log-Likelihood:    </th> <td> -383.24</td>\n",
       "</tr>\n",
       "<tr>\n",
       "  <th>No. Observations:</th>      <td>   198</td>      <th>  AIC:               </th> <td>   774.5</td>\n",
       "</tr>\n",
       "<tr>\n",
       "  <th>Df Residuals:</th>          <td>   194</td>      <th>  BIC:               </th> <td>   787.6</td>\n",
       "</tr>\n",
       "<tr>\n",
       "  <th>Df Model:</th>              <td>     3</td>      <th>                     </th>     <td> </td>   \n",
       "</tr>\n",
       "<tr>\n",
       "  <th>Covariance Type:</th>      <td>nonrobust</td>    <th>                     </th>     <td> </td>   \n",
       "</tr>\n",
       "</table>\n",
       "<table class=\"simpletable\">\n",
       "<tr>\n",
       "             <td></td>                <th>coef</th>     <th>std err</th>      <th>t</th>      <th>P>|t|</th>  <th>[0.025</th>    <th>0.975]</th>  \n",
       "</tr>\n",
       "<tr>\n",
       "  <th>const</th>                   <td>    2.9523</td> <td>    0.318</td> <td>    9.280</td> <td> 0.000</td> <td>    2.325</td> <td>    3.580</td>\n",
       "</tr>\n",
       "<tr>\n",
       "  <th>TV Ad Budget ($)</th>        <td>    0.0457</td> <td>    0.001</td> <td>   32.293</td> <td> 0.000</td> <td>    0.043</td> <td>    0.048</td>\n",
       "</tr>\n",
       "<tr>\n",
       "  <th>Radio Ad Budget ($)</th>     <td>    0.1886</td> <td>    0.009</td> <td>   21.772</td> <td> 0.000</td> <td>    0.171</td> <td>    0.206</td>\n",
       "</tr>\n",
       "<tr>\n",
       "  <th>Newspaper Ad Budget ($)</th> <td>   -0.0012</td> <td>    0.006</td> <td>   -0.187</td> <td> 0.852</td> <td>   -0.014</td> <td>    0.011</td>\n",
       "</tr>\n",
       "</table>\n",
       "<table class=\"simpletable\">\n",
       "<tr>\n",
       "  <th>Omnibus:</th>       <td>59.593</td> <th>  Durbin-Watson:     </th> <td>   2.041</td>\n",
       "</tr>\n",
       "<tr>\n",
       "  <th>Prob(Omnibus):</th> <td> 0.000</td> <th>  Jarque-Bera (JB):  </th> <td> 147.654</td>\n",
       "</tr>\n",
       "<tr>\n",
       "  <th>Skew:</th>          <td>-1.324</td> <th>  Prob(JB):          </th> <td>8.66e-33</td>\n",
       "</tr>\n",
       "<tr>\n",
       "  <th>Kurtosis:</th>      <td> 6.299</td> <th>  Cond. No.          </th> <td>    457.</td>\n",
       "</tr>\n",
       "</table><br/><br/>Notes:<br/>[1] Standard Errors assume that the covariance matrix of the errors is correctly specified."
      ],
      "text/plain": [
       "<class 'statsmodels.iolib.summary.Summary'>\n",
       "\"\"\"\n",
       "                            OLS Regression Results                            \n",
       "==============================================================================\n",
       "Dep. Variable:              Sales ($)   R-squared:                       0.895\n",
       "Model:                            OLS   Adj. R-squared:                  0.894\n",
       "Method:                 Least Squares   F-statistic:                     553.5\n",
       "Date:                Mon, 20 Nov 2023   Prob (F-statistic):           8.35e-95\n",
       "Time:                        11:12:58   Log-Likelihood:                -383.24\n",
       "No. Observations:                 198   AIC:                             774.5\n",
       "Df Residuals:                     194   BIC:                             787.6\n",
       "Df Model:                           3                                         \n",
       "Covariance Type:            nonrobust                                         \n",
       "===========================================================================================\n",
       "                              coef    std err          t      P>|t|      [0.025      0.975]\n",
       "-------------------------------------------------------------------------------------------\n",
       "const                       2.9523      0.318      9.280      0.000       2.325       3.580\n",
       "TV Ad Budget ($)            0.0457      0.001     32.293      0.000       0.043       0.048\n",
       "Radio Ad Budget ($)         0.1886      0.009     21.772      0.000       0.171       0.206\n",
       "Newspaper Ad Budget ($)    -0.0012      0.006     -0.187      0.852      -0.014       0.011\n",
       "==============================================================================\n",
       "Omnibus:                       59.593   Durbin-Watson:                   2.041\n",
       "Prob(Omnibus):                  0.000   Jarque-Bera (JB):              147.654\n",
       "Skew:                          -1.324   Prob(JB):                     8.66e-33\n",
       "Kurtosis:                       6.299   Cond. No.                         457.\n",
       "==============================================================================\n",
       "\n",
       "Notes:\n",
       "[1] Standard Errors assume that the covariance matrix of the errors is correctly specified.\n",
       "\"\"\""
      ]
     },
     "execution_count": 54,
     "metadata": {},
     "output_type": "execute_result"
    }
   ],
   "source": [
    "#OLS regression result\n",
    "import statsmodels.api as sm\n",
    "X_1 = sm.add_constant(X)\n",
    "model1 = sm.OLS(y_1,X_1).fit()\n",
    "model1.summary()"
   ]
  },
  {
   "cell_type": "markdown",
   "id": "4a7cf678",
   "metadata": {},
   "source": [
    "### From the above result it is clear that Adj. R-squared is 0.894. This means that approximately 90% of the total variation in the data can be explained by the model. This also means that the model doesnot account for 10% of the data. This may be due to noice or missing variable."
   ]
  },
  {
   "cell_type": "markdown",
   "id": "0725dd81",
   "metadata": {},
   "source": [
    "### Since p-values(Prob (F-statistic)=8.35e-95) is close to zero, there is atleast one predictor in the model that is a good predictor of sales"
   ]
  },
  {
   "cell_type": "markdown",
   "id": "0a8a7c01",
   "metadata": {},
   "source": [
    "### If you look at the column, P>|t|, you can see the p_values for each predictor. The p_value of Newspaper Ad budget is 0.852, which indicates that spending on Newspaper Ad has very less on sales. "
   ]
  },
  {
   "cell_type": "code",
   "execution_count": 55,
   "id": "80882868",
   "metadata": {},
   "outputs": [
    {
     "name": "stdout",
     "output_type": "stream",
     "text": [
      "With respect to Ridge regression:\n",
      "[ 0.          0.04569034  0.18854554 -0.00117641]\n",
      "2.9523855333135156\n",
      "With respect to Lasso Rigression:\n",
      "[0.         0.04558458 0.18347063 0.        ]\n",
      "3.050255161266488\n"
     ]
    }
   ],
   "source": [
    "#build models for trimmed data\n",
    "from sklearn.linear_model import Ridge\n",
    "model_ = Ridge()\n",
    "model_.fit(X_1,y_1)\n",
    "print(\"With respect to Ridge regression:\")\n",
    "print(model_.coef_)\n",
    "print(model_.intercept_)\n",
    "\n",
    "\n",
    "from sklearn.linear_model import Lasso\n",
    "model_1 = Lasso()\n",
    "model_1.fit(X_1,y_1)\n",
    "print(\"With respect to Lasso Rigression:\")\n",
    "print(model_1.coef_)\n",
    "print(model_1.intercept_)"
   ]
  },
  {
   "cell_type": "code",
   "execution_count": 56,
   "id": "53699428",
   "metadata": {},
   "outputs": [],
   "source": [
    "#Split the data into training data set and test data set\n",
    "from sklearn.model_selection import train_test_split\n",
    "X_train,X_test,y_train,y_test=train_test_split(X,y_1,random_state=45,test_size=0.1)"
   ]
  },
  {
   "cell_type": "code",
   "execution_count": 57,
   "id": "bea7564b",
   "metadata": {},
   "outputs": [
    {
     "name": "stdout",
     "output_type": "stream",
     "text": [
      "Shape of X_train: (178, 3)\n",
      "Shape of X_test: (20, 3)\n",
      "Shape of y_train: (178,)\n",
      "Shape of y_test: (20,)\n"
     ]
    }
   ],
   "source": [
    "print(\"Shape of X_train:\",X_train.shape)\n",
    "print(\"Shape of X_test:\",X_test.shape)\n",
    "print(\"Shape of y_train:\",y_train.shape)\n",
    "print(\"Shape of y_test:\",y_test.shape)"
   ]
  },
  {
   "cell_type": "code",
   "execution_count": 58,
   "id": "d2d4f14f",
   "metadata": {},
   "outputs": [],
   "source": [
    "from sklearn.ensemble import RandomForestRegressor\n",
    "r_forest = RandomForestRegressor()\n",
    "r_forest.fit(X_train,y_train)\n",
    "\n",
    "y_train_pred = r_forest.predict(X_train)\n",
    "\n",
    "y_test_pred = r_forest.predict(X_test)"
   ]
  },
  {
   "cell_type": "code",
   "execution_count": 59,
   "id": "d14c49a9",
   "metadata": {},
   "outputs": [
    {
     "data": {
      "text/plain": [
       "135    0.036\n",
       "159    0.047\n",
       "36    -0.126\n",
       "158   -0.282\n",
       "187    0.520\n",
       "       ...  \n",
       "96     0.023\n",
       "33    -0.558\n",
       "126   -0.089\n",
       "133   -0.007\n",
       "160   -0.068\n",
       "Name: Sales ($), Length: 178, dtype: float64"
      ]
     },
     "execution_count": 59,
     "metadata": {},
     "output_type": "execute_result"
    }
   ],
   "source": [
    "y_train_pred - y_train"
   ]
  },
  {
   "cell_type": "code",
   "execution_count": 60,
   "id": "6e61d4ae",
   "metadata": {},
   "outputs": [
    {
     "name": "stdout",
     "output_type": "stream",
     "text": [
      "R2 value of training data: 0.9971973782228456\n",
      "Adjusted Rsquare of Training data: 0.9971490571577223\n"
     ]
    }
   ],
   "source": [
    "from sklearn.metrics import r2_score\n",
    "\n",
    "r2_score_train_data = r2_score(y_train_pred,y_train)\n",
    "print(\"R2 value of training data:\",r2_score_train_data)\n",
    "\n",
    "n1=len(X_train)\n",
    "k1=X_train.shape[1]\n",
    "adj_r2_training = 1 - ((1-r2_score_train_data)*(n1-1)/(n1-k1-1))\n",
    "print(\"Adjusted Rsquare of Training data:\",adj_r2_training)"
   ]
  },
  {
   "cell_type": "code",
   "execution_count": 61,
   "id": "310245a4",
   "metadata": {},
   "outputs": [
    {
     "data": {
      "image/png": "[encoded data removed]",
      "text/plain": [
       "<Figure size 900x300 with 1 Axes>"
      ]
     },
     "metadata": {},
     "output_type": "display_data"
    }
   ],
   "source": [
    "plt.figure(figsize=(9,3))\n",
    "plt.scatter(range(len(y_train)),y_train,color=\"black\")\n",
    "plt.scatter(range(len(y_train_pred)),y_train_pred,color=\"yellow\")\n",
    "plt.title(\"y_train and y_train_predict\")\n",
    "plt.show()\n"
   ]
  },
  {
   "cell_type": "code",
   "execution_count": 62,
   "id": "d261b6f9",
   "metadata": {},
   "outputs": [
    {
     "name": "stdout",
     "output_type": "stream",
     "text": [
      "R2 value of training data: 0.9487432814628992\n",
      "Adjusted Rsquare of Testing data: 0.9391326467371928\n"
     ]
    }
   ],
   "source": [
    "#calculate rsquare and MSE for test data\n",
    "r2_score_test_data = r2_score(y_test_pred,y_test)\n",
    "print(\"R2 value of training data:\",r2_score_test_data)\n",
    "\n",
    "n2=len(X_test)\n",
    "k2=X_test.shape[1]\n",
    "adj_r2_testing = 1-((1-r2_score_test_data)*(n2-1)/(n2-k2-1))\n",
    "print(\"Adjusted Rsquare of Testing data:\",adj_r2_testing)"
   ]
  },
  {
   "cell_type": "code",
   "execution_count": 66,
   "id": "77d71082",
   "metadata": {},
   "outputs": [],
   "source": [
    "from sklearn.svm import SVR\n",
    "svr = SVR(kernel = 'rbf')\n",
    "svr.fit(X, y_1)\n",
    "\n",
    "y_train_pred1 = svr.predict(X_train)\n",
    "\n",
    "y_test_pred1 = svr.predict(X_test)"
   ]
  },
  {
   "cell_type": "code",
   "execution_count": 67,
   "id": "61bf398d",
   "metadata": {},
   "outputs": [
    {
     "name": "stdout",
     "output_type": "stream",
     "text": [
      "R2 value of training data: 0.8249901797291047\n",
      "Adjusted Rsquare of Testing data: 0.7921758384283119\n"
     ]
    }
   ],
   "source": [
    "#calculate rsquare and MSE for test data\n",
    "r2_score_test_data = r2_score(y_test_pred1,y_test)\n",
    "print(\"R2 value of training data:\",r2_score_test_data)\n",
    "\n",
    "n2=len(X_test)\n",
    "k2=X_test.shape[1]\n",
    "adj_r2_testing = 1-((1-r2_score_test_data)*(n2-1)/(n2-k2-1))\n",
    "print(\"Adjusted Rsquare of Testing data:\",adj_r2_testing)"
   ]
  },
  {
   "cell_type": "code",
   "execution_count": 68,
   "id": "ca2311d1",
   "metadata": {},
   "outputs": [
    {
     "name": "stdout",
     "output_type": "stream",
     "text": [
      "[18.961]\n"
     ]
    },
    {
     "name": "stderr",
     "output_type": "stream",
     "text": [
      "C:\\Users\\HEMA\\anaconda3\\Lib\\site-packages\\sklearn\\base.py:439: UserWarning: X does not have valid feature names, but RandomForestRegressor was fitted with feature names\n",
      "  warnings.warn(\n"
     ]
    }
   ],
   "source": [
    "#predicting for new data\n",
    "new_data=(204.1,32.9,46)\n",
    "\n",
    "#convert it into array\n",
    "import numpy as np\n",
    "new_data_=np.asarray(new_data)\n",
    "\n",
    "#reshape the data\n",
    "new_data_reshape=new_data_.reshape(1,-1)\n",
    "\n",
    "#fit new_data to the regressor\n",
    "new_data_predict=r_forest.predict(new_data_reshape)\n",
    "print(new_data_predict)"
   ]
  },
  {
   "cell_type": "code",
   "execution_count": null,
   "id": "a512fb26",
   "metadata": {},
   "outputs": [],
   "source": []
  }
 ],
 "metadata": {
  "kernelspec": {
   "display_name": "Python 3 (ipykernel)",
   "language": "python",
   "name": "python3"
  },
  "language_info": {
   "codemirror_mode": {
    "name": "ipython",
    "version": 3
   },
   "file_extension": ".py",
   "mimetype": "text/x-python",
   "name": "python",
   "nbconvert_exporter": "python",
   "pygments_lexer": "ipython3",
   "version": "3.11.3"
  }
 },
 "nbformat": 4,
 "nbformat_minor": 5
}
