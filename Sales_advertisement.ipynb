{
 "cells": [
  {
   "cell_type": "code",
   "execution_count": 1,
   "id": "f6889b37",
   "metadata": {},
   "outputs": [
    {
     "data": {
      "text/html": [
       "<div>\n",
       "<style scoped>\n",
       "    .dataframe tbody tr th:only-of-type {\n",
       "        vertical-align: middle;\n",
       "    }\n",
       "\n",
       "    .dataframe tbody tr th {\n",
       "        vertical-align: top;\n",
       "    }\n",
       "\n",
       "    .dataframe thead th {\n",
       "        text-align: right;\n",
       "    }\n",
       "</style>\n",
       "<table border=\"1\" class=\"dataframe\">\n",
       "  <thead>\n",
       "    <tr style=\"text-align: right;\">\n",
       "      <th></th>\n",
       "      <th>Day</th>\n",
       "      <th>TV Ad Budget ($)</th>\n",
       "      <th>Radio Ad Budget ($)</th>\n",
       "      <th>Newspaper Ad Budget ($)</th>\n",
       "      <th>Sales ($)</th>\n",
       "    </tr>\n",
       "  </thead>\n",
       "  <tbody>\n",
       "    <tr>\n",
       "      <th>0</th>\n",
       "      <td>1</td>\n",
       "      <td>230.1</td>\n",
       "      <td>37.8</td>\n",
       "      <td>69.2</td>\n",
       "      <td>22.1</td>\n",
       "    </tr>\n",
       "    <tr>\n",
       "      <th>1</th>\n",
       "      <td>2</td>\n",
       "      <td>44.5</td>\n",
       "      <td>39.3</td>\n",
       "      <td>45.1</td>\n",
       "      <td>10.4</td>\n",
       "    </tr>\n",
       "    <tr>\n",
       "      <th>2</th>\n",
       "      <td>3</td>\n",
       "      <td>17.2</td>\n",
       "      <td>45.9</td>\n",
       "      <td>69.3</td>\n",
       "      <td>9.3</td>\n",
       "    </tr>\n",
       "    <tr>\n",
       "      <th>3</th>\n",
       "      <td>4</td>\n",
       "      <td>151.5</td>\n",
       "      <td>41.3</td>\n",
       "      <td>58.5</td>\n",
       "      <td>18.5</td>\n",
       "    </tr>\n",
       "    <tr>\n",
       "      <th>4</th>\n",
       "      <td>5</td>\n",
       "      <td>180.8</td>\n",
       "      <td>10.8</td>\n",
       "      <td>58.4</td>\n",
       "      <td>12.9</td>\n",
       "    </tr>\n",
       "    <tr>\n",
       "      <th>...</th>\n",
       "      <td>...</td>\n",
       "      <td>...</td>\n",
       "      <td>...</td>\n",
       "      <td>...</td>\n",
       "      <td>...</td>\n",
       "    </tr>\n",
       "    <tr>\n",
       "      <th>195</th>\n",
       "      <td>196</td>\n",
       "      <td>38.2</td>\n",
       "      <td>3.7</td>\n",
       "      <td>13.8</td>\n",
       "      <td>7.6</td>\n",
       "    </tr>\n",
       "    <tr>\n",
       "      <th>196</th>\n",
       "      <td>197</td>\n",
       "      <td>94.2</td>\n",
       "      <td>4.9</td>\n",
       "      <td>8.1</td>\n",
       "      <td>9.7</td>\n",
       "    </tr>\n",
       "    <tr>\n",
       "      <th>197</th>\n",
       "      <td>198</td>\n",
       "      <td>177.0</td>\n",
       "      <td>9.3</td>\n",
       "      <td>6.4</td>\n",
       "      <td>12.8</td>\n",
       "    </tr>\n",
       "    <tr>\n",
       "      <th>198</th>\n",
       "      <td>199</td>\n",
       "      <td>283.6</td>\n",
       "      <td>42.0</td>\n",
       "      <td>66.2</td>\n",
       "      <td>25.5</td>\n",
       "    </tr>\n",
       "    <tr>\n",
       "      <th>199</th>\n",
       "      <td>200</td>\n",
       "      <td>232.1</td>\n",
       "      <td>8.6</td>\n",
       "      <td>8.7</td>\n",
       "      <td>13.4</td>\n",
       "    </tr>\n",
       "  </tbody>\n",
       "</table>\n",
       "<p>200 rows × 5 columns</p>\n",
       "</div>"
      ],
      "text/plain": [
       "     Day  TV Ad Budget ($)  Radio Ad Budget ($)  Newspaper Ad Budget ($)  \\\n",
       "0      1             230.1                 37.8                     69.2   \n",
       "1      2              44.5                 39.3                     45.1   \n",
       "2      3              17.2                 45.9                     69.3   \n",
       "3      4             151.5                 41.3                     58.5   \n",
       "4      5             180.8                 10.8                     58.4   \n",
       "..   ...               ...                  ...                      ...   \n",
       "195  196              38.2                  3.7                     13.8   \n",
       "196  197              94.2                  4.9                      8.1   \n",
       "197  198             177.0                  9.3                      6.4   \n",
       "198  199             283.6                 42.0                     66.2   \n",
       "199  200             232.1                  8.6                      8.7   \n",
       "\n",
       "     Sales ($)  \n",
       "0         22.1  \n",
       "1         10.4  \n",
       "2          9.3  \n",
       "3         18.5  \n",
       "4         12.9  \n",
       "..         ...  \n",
       "195        7.6  \n",
       "196        9.7  \n",
       "197       12.8  \n",
       "198       25.5  \n",
       "199       13.4  \n",
       "\n",
       "[200 rows x 5 columns]"
      ]
     },
     "execution_count": 1,
     "metadata": {},
     "output_type": "execute_result"
    }
   ],
   "source": [
    "#import advertisement budget sales data \n",
    "import pandas as pd\n",
    "data = pd.read_excel(r\"E:\\Suhani\\Notes\\Data Science\\Data\\Advertising data.xlsx\")\n",
    "data"
   ]
  },
  {
   "cell_type": "code",
   "execution_count": 2,
   "id": "9025e2ac",
   "metadata": {},
   "outputs": [
    {
     "name": "stdout",
     "output_type": "stream",
     "text": [
      "<class 'pandas.core.frame.DataFrame'>\n",
      "RangeIndex: 200 entries, 0 to 199\n",
      "Data columns (total 5 columns):\n",
      " #   Column                   Non-Null Count  Dtype  \n",
      "---  ------                   --------------  -----  \n",
      " 0   Day                      200 non-null    int64  \n",
      " 1   TV Ad Budget ($)         200 non-null    float64\n",
      " 2   Radio Ad Budget ($)      200 non-null    float64\n",
      " 3   Newspaper Ad Budget ($)  200 non-null    float64\n",
      " 4   Sales ($)                200 non-null    float64\n",
      "dtypes: float64(4), int64(1)\n",
      "memory usage: 7.9 KB\n"
     ]
    }
   ],
   "source": [
    "#Information about the data\n",
    "data.info()"
   ]
  },
  {
   "cell_type": "code",
   "execution_count": 3,
   "id": "2402df13",
   "metadata": {},
   "outputs": [
    {
     "data": {
      "text/html": [
       "<div>\n",
       "<style scoped>\n",
       "    .dataframe tbody tr th:only-of-type {\n",
       "        vertical-align: middle;\n",
       "    }\n",
       "\n",
       "    .dataframe tbody tr th {\n",
       "        vertical-align: top;\n",
       "    }\n",
       "\n",
       "    .dataframe thead th {\n",
       "        text-align: right;\n",
       "    }\n",
       "</style>\n",
       "<table border=\"1\" class=\"dataframe\">\n",
       "  <thead>\n",
       "    <tr style=\"text-align: right;\">\n",
       "      <th></th>\n",
       "      <th>Day</th>\n",
       "      <th>TV Ad Budget ($)</th>\n",
       "      <th>Radio Ad Budget ($)</th>\n",
       "      <th>Newspaper Ad Budget ($)</th>\n",
       "      <th>Sales ($)</th>\n",
       "    </tr>\n",
       "  </thead>\n",
       "  <tbody>\n",
       "    <tr>\n",
       "      <th>count</th>\n",
       "      <td>200.000000</td>\n",
       "      <td>200.000000</td>\n",
       "      <td>200.000000</td>\n",
       "      <td>200.000000</td>\n",
       "      <td>200.000000</td>\n",
       "    </tr>\n",
       "    <tr>\n",
       "      <th>mean</th>\n",
       "      <td>100.500000</td>\n",
       "      <td>147.042500</td>\n",
       "      <td>23.264000</td>\n",
       "      <td>30.554000</td>\n",
       "      <td>14.022500</td>\n",
       "    </tr>\n",
       "    <tr>\n",
       "      <th>std</th>\n",
       "      <td>57.879185</td>\n",
       "      <td>85.854236</td>\n",
       "      <td>14.846809</td>\n",
       "      <td>21.778621</td>\n",
       "      <td>5.217457</td>\n",
       "    </tr>\n",
       "    <tr>\n",
       "      <th>min</th>\n",
       "      <td>1.000000</td>\n",
       "      <td>0.700000</td>\n",
       "      <td>0.000000</td>\n",
       "      <td>0.300000</td>\n",
       "      <td>1.600000</td>\n",
       "    </tr>\n",
       "    <tr>\n",
       "      <th>25%</th>\n",
       "      <td>50.750000</td>\n",
       "      <td>74.375000</td>\n",
       "      <td>9.975000</td>\n",
       "      <td>12.750000</td>\n",
       "      <td>10.375000</td>\n",
       "    </tr>\n",
       "    <tr>\n",
       "      <th>50%</th>\n",
       "      <td>100.500000</td>\n",
       "      <td>149.750000</td>\n",
       "      <td>22.900000</td>\n",
       "      <td>25.750000</td>\n",
       "      <td>12.900000</td>\n",
       "    </tr>\n",
       "    <tr>\n",
       "      <th>75%</th>\n",
       "      <td>150.250000</td>\n",
       "      <td>218.825000</td>\n",
       "      <td>36.525000</td>\n",
       "      <td>45.100000</td>\n",
       "      <td>17.400000</td>\n",
       "    </tr>\n",
       "    <tr>\n",
       "      <th>max</th>\n",
       "      <td>200.000000</td>\n",
       "      <td>296.400000</td>\n",
       "      <td>49.600000</td>\n",
       "      <td>114.000000</td>\n",
       "      <td>27.000000</td>\n",
       "    </tr>\n",
       "  </tbody>\n",
       "</table>\n",
       "</div>"
      ],
      "text/plain": [
       "              Day  TV Ad Budget ($)  Radio Ad Budget ($)  \\\n",
       "count  200.000000        200.000000           200.000000   \n",
       "mean   100.500000        147.042500            23.264000   \n",
       "std     57.879185         85.854236            14.846809   \n",
       "min      1.000000          0.700000             0.000000   \n",
       "25%     50.750000         74.375000             9.975000   \n",
       "50%    100.500000        149.750000            22.900000   \n",
       "75%    150.250000        218.825000            36.525000   \n",
       "max    200.000000        296.400000            49.600000   \n",
       "\n",
       "       Newspaper Ad Budget ($)   Sales ($)  \n",
       "count               200.000000  200.000000  \n",
       "mean                 30.554000   14.022500  \n",
       "std                  21.778621    5.217457  \n",
       "min                   0.300000    1.600000  \n",
       "25%                  12.750000   10.375000  \n",
       "50%                  25.750000   12.900000  \n",
       "75%                  45.100000   17.400000  \n",
       "max                 114.000000   27.000000  "
      ]
     },
     "execution_count": 3,
     "metadata": {},
     "output_type": "execute_result"
    }
   ],
   "source": [
    "#describe the data\n",
    "data.describe()"
   ]
  },
  {
   "cell_type": "code",
   "execution_count": 4,
   "id": "5c66e5f8",
   "metadata": {},
   "outputs": [
    {
     "data": {
      "text/html": [
       "<div>\n",
       "<style scoped>\n",
       "    .dataframe tbody tr th:only-of-type {\n",
       "        vertical-align: middle;\n",
       "    }\n",
       "\n",
       "    .dataframe tbody tr th {\n",
       "        vertical-align: top;\n",
       "    }\n",
       "\n",
       "    .dataframe thead th {\n",
       "        text-align: right;\n",
       "    }\n",
       "</style>\n",
       "<table border=\"1\" class=\"dataframe\">\n",
       "  <thead>\n",
       "    <tr style=\"text-align: right;\">\n",
       "      <th></th>\n",
       "      <th>Day</th>\n",
       "      <th>TV Ad Budget ($)</th>\n",
       "      <th>Radio Ad Budget ($)</th>\n",
       "      <th>Newspaper Ad Budget ($)</th>\n",
       "      <th>Sales ($)</th>\n",
       "    </tr>\n",
       "  </thead>\n",
       "  <tbody>\n",
       "    <tr>\n",
       "      <th>Day</th>\n",
       "      <td>1.000000</td>\n",
       "      <td>0.017715</td>\n",
       "      <td>-0.110680</td>\n",
       "      <td>-0.154944</td>\n",
       "      <td>-0.051616</td>\n",
       "    </tr>\n",
       "    <tr>\n",
       "      <th>TV Ad Budget ($)</th>\n",
       "      <td>0.017715</td>\n",
       "      <td>1.000000</td>\n",
       "      <td>0.054809</td>\n",
       "      <td>0.056648</td>\n",
       "      <td>0.782224</td>\n",
       "    </tr>\n",
       "    <tr>\n",
       "      <th>Radio Ad Budget ($)</th>\n",
       "      <td>-0.110680</td>\n",
       "      <td>0.054809</td>\n",
       "      <td>1.000000</td>\n",
       "      <td>0.354104</td>\n",
       "      <td>0.576223</td>\n",
       "    </tr>\n",
       "    <tr>\n",
       "      <th>Newspaper Ad Budget ($)</th>\n",
       "      <td>-0.154944</td>\n",
       "      <td>0.056648</td>\n",
       "      <td>0.354104</td>\n",
       "      <td>1.000000</td>\n",
       "      <td>0.228299</td>\n",
       "    </tr>\n",
       "    <tr>\n",
       "      <th>Sales ($)</th>\n",
       "      <td>-0.051616</td>\n",
       "      <td>0.782224</td>\n",
       "      <td>0.576223</td>\n",
       "      <td>0.228299</td>\n",
       "      <td>1.000000</td>\n",
       "    </tr>\n",
       "  </tbody>\n",
       "</table>\n",
       "</div>"
      ],
      "text/plain": [
       "                              Day  TV Ad Budget ($)  Radio Ad Budget ($)  \\\n",
       "Day                      1.000000          0.017715            -0.110680   \n",
       "TV Ad Budget ($)         0.017715          1.000000             0.054809   \n",
       "Radio Ad Budget ($)     -0.110680          0.054809             1.000000   \n",
       "Newspaper Ad Budget ($) -0.154944          0.056648             0.354104   \n",
       "Sales ($)               -0.051616          0.782224             0.576223   \n",
       "\n",
       "                         Newspaper Ad Budget ($)  Sales ($)  \n",
       "Day                                    -0.154944  -0.051616  \n",
       "TV Ad Budget ($)                        0.056648   0.782224  \n",
       "Radio Ad Budget ($)                     0.354104   0.576223  \n",
       "Newspaper Ad Budget ($)                 1.000000   0.228299  \n",
       "Sales ($)                               0.228299   1.000000  "
      ]
     },
     "execution_count": 4,
     "metadata": {},
     "output_type": "execute_result"
    }
   ],
   "source": [
    "#Check for correlation between the variables\n",
    "data.corr()"
   ]
  },
  {
   "cell_type": "markdown",
   "id": "b058c549",
   "metadata": {},
   "source": [
    "### From the above table it is clear that Sales is more influenced by TV Ad Budget and less influenced by Newspaper Ad Budget."
   ]
  },
  {
   "cell_type": "code",
   "execution_count": 5,
   "id": "167fd797",
   "metadata": {},
   "outputs": [
    {
     "data": {
      "image/png": "[encoded data removed]",
      "text/plain": [
       "<Figure size 900x300 with 3 Axes>"
      ]
     },
     "metadata": {},
     "output_type": "display_data"
    }
   ],
   "source": [
    "#Check for outliers usin boxplot\n",
    "import matplotlib.pyplot as plt\n",
    "\n",
    "plt.figure(figsize=(9,3))\n",
    "\n",
    "plt.subplot(1,3,1)\n",
    "plt.boxplot(data[\"TV Ad Budget ($)\"])\n",
    "plt.title(\"TV Ad Budget ($)\")\n",
    "\n",
    "plt.subplot(1,3,2)\n",
    "plt.boxplot(data[\"Radio Ad Budget ($)\"])\n",
    "plt.title(\"Radio Ad Budget ($)\")\n",
    "\n",
    "plt.subplot(1,3,3)\n",
    "plt.boxplot(data[\"Newspaper Ad Budget ($)\"])\n",
    "plt.title(\"Newspaper Ad Budget ($)\")\n",
    "\n",
    "plt.show()"
   ]
  },
  {
   "cell_type": "code",
   "execution_count": 6,
   "id": "339b7f4d",
   "metadata": {},
   "outputs": [
    {
     "name": "stdout",
     "output_type": "stream",
     "text": [
      "Outlie: [114.0, 100.9]\n"
     ]
    }
   ],
   "source": [
    "#Z score\n",
    "import numpy as np\n",
    "threshold = 3\n",
    "outlier = []\n",
    "for i in data[\"Newspaper Ad Budget ($)\"]:\n",
    "    z=(i-np.mean(data[\"Newspaper Ad Budget ($)\"]))/np.std(data[\"Newspaper Ad Budget ($)\"])\n",
    "    if z>threshold:\n",
    "        outlier.append(i)\n",
    "print(\"Outlie:\",outlier)"
   ]
  },
  {
   "cell_type": "code",
   "execution_count": 7,
   "id": "fc6ec9bc",
   "metadata": {},
   "outputs": [
    {
     "name": "stdout",
     "output_type": "stream",
     "text": [
      "16     114.0\n",
      "101    100.9\n",
      "Name: Newspaper Ad Budget ($), dtype: float64\n"
     ]
    }
   ],
   "source": [
    "import numpy as np\n",
    "q1,q3=np.percentile(data[\"Newspaper Ad Budget ($)\"],[25,75])\n",
    "iqr =q3-q1\n",
    "lower_bound=q1-1.5*iqr\n",
    "upper_bound=q3+1.5*iqr\n",
    "outliers=data[\"Newspaper Ad Budget ($)\"][(data[\"Newspaper Ad Budget ($)\"]<lower_bound)|(data[\"Newspaper Ad Budget ($)\"]>upper_bound)]\n",
    "print(outliers)"
   ]
  },
  {
   "cell_type": "code",
   "execution_count": 9,
   "id": "3d50f033",
   "metadata": {},
   "outputs": [],
   "source": [
    "#X:Independent Variable, y: Target\n",
    "X = data.drop([\"Day\",\"Sales ($)\"], axis=1)\n",
    "y = data[\"Sales ($)\"]"
   ]
  },
  {
   "cell_type": "code",
   "execution_count": 10,
   "id": "5cff8100",
   "metadata": {},
   "outputs": [
    {
     "data": {
      "image/png": "[encoded data removed]",
      "text/plain": [
       "<Figure size 900x300 with 3 Axes>"
      ]
     },
     "metadata": {},
     "output_type": "display_data"
    }
   ],
   "source": [
    "#Check for outliers using boxplot\n",
    "import matplotlib.pyplot as plt\n",
    "\n",
    "plt.figure(figsize=(9,3))\n",
    "\n",
    "plt.subplot(1,3,1)\n",
    "plt.scatter(data[\"TV Ad Budget ($)\"],y)\n",
    "plt.title(\"TV and Sales\")\n",
    "\n",
    "plt.subplot(1,3,2)\n",
    "plt.scatter(data[\"Radio Ad Budget ($)\"],y)\n",
    "plt.title(\"Radio and Sales\")\n",
    "\n",
    "plt.subplot(1,3,3)\n",
    "plt.scatter(data[\"Newspaper Ad Budget ($)\"],y)\n",
    "plt.title(\"Newspaper and Sales\")\n",
    "\n",
    "plt.show()"
   ]
  },
  {
   "cell_type": "markdown",
   "id": "2d9c65f8",
   "metadata": {},
   "source": [
    "### From the above graphs, it is clear that linearity exists between TV Ad budget and Sales"
   ]
  },
  {
   "cell_type": "code",
   "execution_count": 11,
   "id": "8fa6e398",
   "metadata": {},
   "outputs": [],
   "source": [
    "#Split the data into train and test data set\n",
    "from sklearn.model_selection import train_test_split\n",
    "X_train, X_test, y_train, y_test = train_test_split(X,y,test_size=0.1,random_state=2)"
   ]
  },
  {
   "cell_type": "code",
   "execution_count": 12,
   "id": "8fc35f70",
   "metadata": {},
   "outputs": [],
   "source": [
    "#Use random forest \n",
    "from sklearn.ensemble import RandomForestRegressor\n",
    "regressor = RandomForestRegressor()\n",
    "regressor.fit(X_train,y_train)\n",
    "\n",
    "y_train_pred = regressor.predict(X_train)"
   ]
  },
  {
   "cell_type": "code",
   "execution_count": 34,
   "id": "3bdccc4c",
   "metadata": {},
   "outputs": [
    {
     "data": {
      "image/png": "[encoded data removed]",
      "text/plain": [
       "<Figure size 900x300 with 1 Axes>"
      ]
     },
     "metadata": {},
     "output_type": "display_data"
    }
   ],
   "source": [
    "#graphical representation of y_train and predicted y_train\n",
    "plt.figure(figsize=(9,3))\n",
    "plt.scatter(range(len(y_train)),y_train,color=\"black\")\n",
    "plt.scatter(range(len(y_train)),y_train,color=\"yellow\")\n",
    "plt.title(\"y_train,y_train_pred\")\n",
    "plt.show()"
   ]
  },
  {
   "cell_type": "code",
   "execution_count": 35,
   "id": "a022a6a7",
   "metadata": {},
   "outputs": [
    {
     "name": "stdout",
     "output_type": "stream",
     "text": [
      "r2_score_train: 0.9971063642570352\n",
      "adj_r2_score_train: 0.9970570409205074\n",
      "mean_absolute_error_train: 0.21205555555555525\n"
     ]
    }
   ],
   "source": [
    "#calculate r_square,adjusted_r_square, Mean_absolue_error for train_data\n",
    "from sklearn.metrics import r2_score, mean_absolute_error\n",
    "\n",
    "r2_score_train = r2_score(y_train_pred,y_train)\n",
    "\n",
    "n=len(X_train)\n",
    "k=len(X_train.columns)\n",
    "adj_r2_score_train=1-((1-r2_score_train)*(n-1))/(n-k-1)\n",
    "\n",
    "mean_absolute_error_train = mean_absolute_error(y_train_pred,y_train)\n",
    "\n",
    "print(\"r2_score_train:\",r2_score_train)\n",
    "print(\"adj_r2_score_train:\",adj_r2_score_train)\n",
    "print(\"mean_absolute_error_train:\",mean_absolute_error_train)"
   ]
  },
  {
   "cell_type": "code",
   "execution_count": 36,
   "id": "8f116da6",
   "metadata": {},
   "outputs": [],
   "source": [
    "#fit and predict for test data\n",
    "regressor.fit(X_test,y_test)\n",
    "\n",
    "y_test_pred = regressor.predict(X_test)"
   ]
  },
  {
   "cell_type": "code",
   "execution_count": 40,
   "id": "d1a2a536",
   "metadata": {},
   "outputs": [
    {
     "data": {
      "image/png": "[encoded data removed]",
      "text/plain": [
       "<Figure size 900x300 with 1 Axes>"
      ]
     },
     "metadata": {},
     "output_type": "display_data"
    }
   ],
   "source": [
    "#graphical representation of y_test and predicted y_test\n",
    "plt.figure(figsize=(9,3))\n",
    "plt.scatter(range(len(y_test)),y_test,color=\"black\")\n",
    "plt.scatter(range(len(y_test)),y_test,color=\"orange\")\n",
    "plt.title(\"y_test,y_test_pred\")\n",
    "plt.show()"
   ]
  },
  {
   "cell_type": "code",
   "execution_count": 45,
   "id": "bbc885ee",
   "metadata": {},
   "outputs": [
    {
     "name": "stdout",
     "output_type": "stream",
     "text": [
      "r2_score_train: 0.979851487901385\n",
      "adj_r2_score_train: 0.9760736418828947\n",
      "mean_absolute_error_train: 0.46510000000000085\n"
     ]
    }
   ],
   "source": [
    "#calculate r_square,adjusted_r_square, Mean_absolue_error for test_data\n",
    "r2_score_test = r2_score(y_test_pred,y_test)\n",
    "\n",
    "n_=len(X_test)\n",
    "k_=len(X_test.columns)\n",
    "adj_r2_score_test=1-(((1-r2_score_test)*(n_-1))/(n_-k_-1))\n",
    "\n",
    "mean_absolute_error_test = mean_absolute_error(y_test_pred,y_test)\n",
    "\n",
    "print(\"r2_score_train:\",r2_score_test)\n",
    "print(\"adj_r2_score_train:\",adj_r2_score_test)\n",
    "print(\"mean_absolute_error_train:\",mean_absolute_error_test)"
   ]
  },
  {
   "cell_type": "code",
   "execution_count": 46,
   "id": "5f72fd28",
   "metadata": {},
   "outputs": [
    {
     "name": "stdout",
     "output_type": "stream",
     "text": [
      "[18.756]\n"
     ]
    },
    {
     "name": "stderr",
     "output_type": "stream",
     "text": [
      "C:\\Users\\Lenovo\\anaconda3\\lib\\site-packages\\sklearn\\base.py:450: UserWarning: X does not have valid feature names, but RandomForestRegressor was fitted with feature names\n",
      "  warnings.warn(\n"
     ]
    }
   ],
   "source": [
    "#predicting for new data\n",
    "new_data=(204.1,32.9,46)\n",
    "\n",
    "#convert it into array\n",
    "import numpy as np\n",
    "new_data_=np.asarray(new_data)\n",
    "\n",
    "#reshape the data\n",
    "new_data_reshape=new_data_.reshape(1,-1)\n",
    "\n",
    "#fit new_data to the regressor\n",
    "new_data_predict=regressor.predict(new_data_reshape)\n",
    "print(new_data_predict)"
   ]
  },
  {
   "cell_type": "code",
   "execution_count": null,
   "id": "e12b32c1",
   "metadata": {},
   "outputs": [],
   "source": []
  }
 ],
 "metadata": {
  "kernelspec": {
   "display_name": "Python 3 (ipykernel)",
   "language": "python",
   "name": "python3"
  },
  "language_info": {
   "codemirror_mode": {
    "name": "ipython",
    "version": 3
   },
   "file_extension": ".py",
   "mimetype": "text/x-python",
   "name": "python",
   "nbconvert_exporter": "python",
   "pygments_lexer": "ipython3",
   "version": "3.9.13"
  }
 },
 "nbformat": 4,
 "nbformat_minor": 5
}
