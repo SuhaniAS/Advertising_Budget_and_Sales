{
 "cells": [
  {
   "cell_type": "markdown",
   "id": "0245e3a6",
   "metadata": {},
   "source": [
    "# Advertising Budget and Sales Forecasting"
   ]
  },
  {
   "cell_type": "markdown",
   "id": "2cdff61b",
   "metadata": {},
   "source": [
    "### Analyse which of the variable is more influencing Sales and predict the sales for new data"
   ]
  },
  {
   "cell_type": "code",
   "execution_count": 1,
   "id": "ff99b66b",
   "metadata": {},
   "outputs": [
    {
     "data": {
      "text/html": [
       "<div>\n",
       "<style scoped>\n",
       "    .dataframe tbody tr th:only-of-type {\n",
       "        vertical-align: middle;\n",
       "    }\n",
       "\n",
       "    .dataframe tbody tr th {\n",
       "        vertical-align: top;\n",
       "    }\n",
       "\n",
       "    .dataframe thead th {\n",
       "        text-align: right;\n",
       "    }\n",
       "</style>\n",
       "<table border=\"1\" class=\"dataframe\">\n",
       "  <thead>\n",
       "    <tr style=\"text-align: right;\">\n",
       "      <th></th>\n",
       "      <th>Day</th>\n",
       "      <th>TV Ad Budget ($)</th>\n",
       "      <th>Radio Ad Budget ($)</th>\n",
       "      <th>Newspaper Ad Budget ($)</th>\n",
       "      <th>Sales ($)</th>\n",
       "    </tr>\n",
       "  </thead>\n",
       "  <tbody>\n",
       "    <tr>\n",
       "      <th>0</th>\n",
       "      <td>1</td>\n",
       "      <td>230.1</td>\n",
       "      <td>37.8</td>\n",
       "      <td>69.2</td>\n",
       "      <td>22.1</td>\n",
       "    </tr>\n",
       "    <tr>\n",
       "      <th>1</th>\n",
       "      <td>2</td>\n",
       "      <td>44.5</td>\n",
       "      <td>39.3</td>\n",
       "      <td>45.1</td>\n",
       "      <td>10.4</td>\n",
       "    </tr>\n",
       "    <tr>\n",
       "      <th>2</th>\n",
       "      <td>3</td>\n",
       "      <td>17.2</td>\n",
       "      <td>45.9</td>\n",
       "      <td>69.3</td>\n",
       "      <td>9.3</td>\n",
       "    </tr>\n",
       "    <tr>\n",
       "      <th>3</th>\n",
       "      <td>4</td>\n",
       "      <td>151.5</td>\n",
       "      <td>41.3</td>\n",
       "      <td>58.5</td>\n",
       "      <td>18.5</td>\n",
       "    </tr>\n",
       "    <tr>\n",
       "      <th>4</th>\n",
       "      <td>5</td>\n",
       "      <td>180.8</td>\n",
       "      <td>10.8</td>\n",
       "      <td>58.4</td>\n",
       "      <td>12.9</td>\n",
       "    </tr>\n",
       "    <tr>\n",
       "      <th>...</th>\n",
       "      <td>...</td>\n",
       "      <td>...</td>\n",
       "      <td>...</td>\n",
       "      <td>...</td>\n",
       "      <td>...</td>\n",
       "    </tr>\n",
       "    <tr>\n",
       "      <th>195</th>\n",
       "      <td>196</td>\n",
       "      <td>38.2</td>\n",
       "      <td>3.7</td>\n",
       "      <td>13.8</td>\n",
       "      <td>7.6</td>\n",
       "    </tr>\n",
       "    <tr>\n",
       "      <th>196</th>\n",
       "      <td>197</td>\n",
       "      <td>94.2</td>\n",
       "      <td>4.9</td>\n",
       "      <td>8.1</td>\n",
       "      <td>9.7</td>\n",
       "    </tr>\n",
       "    <tr>\n",
       "      <th>197</th>\n",
       "      <td>198</td>\n",
       "      <td>177.0</td>\n",
       "      <td>9.3</td>\n",
       "      <td>6.4</td>\n",
       "      <td>12.8</td>\n",
       "    </tr>\n",
       "    <tr>\n",
       "      <th>198</th>\n",
       "      <td>199</td>\n",
       "      <td>283.6</td>\n",
       "      <td>42.0</td>\n",
       "      <td>66.2</td>\n",
       "      <td>25.5</td>\n",
       "    </tr>\n",
       "    <tr>\n",
       "      <th>199</th>\n",
       "      <td>200</td>\n",
       "      <td>232.1</td>\n",
       "      <td>8.6</td>\n",
       "      <td>8.7</td>\n",
       "      <td>13.4</td>\n",
       "    </tr>\n",
       "  </tbody>\n",
       "</table>\n",
       "<p>200 rows × 5 columns</p>\n",
       "</div>"
      ],
      "text/plain": [
       "     Day  TV Ad Budget ($)  Radio Ad Budget ($)  Newspaper Ad Budget ($)  \\\n",
       "0      1             230.1                 37.8                     69.2   \n",
       "1      2              44.5                 39.3                     45.1   \n",
       "2      3              17.2                 45.9                     69.3   \n",
       "3      4             151.5                 41.3                     58.5   \n",
       "4      5             180.8                 10.8                     58.4   \n",
       "..   ...               ...                  ...                      ...   \n",
       "195  196              38.2                  3.7                     13.8   \n",
       "196  197              94.2                  4.9                      8.1   \n",
       "197  198             177.0                  9.3                      6.4   \n",
       "198  199             283.6                 42.0                     66.2   \n",
       "199  200             232.1                  8.6                      8.7   \n",
       "\n",
       "     Sales ($)  \n",
       "0         22.1  \n",
       "1         10.4  \n",
       "2          9.3  \n",
       "3         18.5  \n",
       "4         12.9  \n",
       "..         ...  \n",
       "195        7.6  \n",
       "196        9.7  \n",
       "197       12.8  \n",
       "198       25.5  \n",
       "199       13.4  \n",
       "\n",
       "[200 rows x 5 columns]"
      ]
     },
     "execution_count": 1,
     "metadata": {},
     "output_type": "execute_result"
    }
   ],
   "source": [
    "#import data\n",
    "import pandas as pd\n",
    "data = pd.read_excel(r\"E:\\Suhani\\Notes\\Data Science\\Data\\Advertising data.xlsx\")\n",
    "data"
   ]
  },
  {
   "cell_type": "code",
   "execution_count": 2,
   "id": "2ee7492d",
   "metadata": {},
   "outputs": [
    {
     "name": "stdout",
     "output_type": "stream",
     "text": [
      "<class 'pandas.core.frame.DataFrame'>\n",
      "RangeIndex: 200 entries, 0 to 199\n",
      "Data columns (total 5 columns):\n",
      " #   Column                   Non-Null Count  Dtype  \n",
      "---  ------                   --------------  -----  \n",
      " 0   Day                      200 non-null    int64  \n",
      " 1   TV Ad Budget ($)         200 non-null    float64\n",
      " 2   Radio Ad Budget ($)      200 non-null    float64\n",
      " 3   Newspaper Ad Budget ($)  200 non-null    float64\n",
      " 4   Sales ($)                200 non-null    float64\n",
      "dtypes: float64(4), int64(1)\n",
      "memory usage: 7.9 KB\n",
      "Information about the data: None\n"
     ]
    }
   ],
   "source": [
    "print(\"Information about the data:\",data.info())"
   ]
  },
  {
   "cell_type": "code",
   "execution_count": 3,
   "id": "97670eaf",
   "metadata": {},
   "outputs": [
    {
     "name": "stdout",
     "output_type": "stream",
     "text": [
      "Describing the data:               Day  TV Ad Budget ($)  Radio Ad Budget ($)  \\\n",
      "count  200.000000        200.000000           200.000000   \n",
      "mean   100.500000        147.042500            23.264000   \n",
      "std     57.879185         85.854236            14.846809   \n",
      "min      1.000000          0.700000             0.000000   \n",
      "25%     50.750000         74.375000             9.975000   \n",
      "50%    100.500000        149.750000            22.900000   \n",
      "75%    150.250000        218.825000            36.525000   \n",
      "max    200.000000        296.400000            49.600000   \n",
      "\n",
      "       Newspaper Ad Budget ($)   Sales ($)  \n",
      "count               200.000000  200.000000  \n",
      "mean                 30.554000   14.022500  \n",
      "std                  21.778621    5.217457  \n",
      "min                   0.300000    1.600000  \n",
      "25%                  12.750000   10.375000  \n",
      "50%                  25.750000   12.900000  \n",
      "75%                  45.100000   17.400000  \n",
      "max                 114.000000   27.000000  \n"
     ]
    }
   ],
   "source": [
    "print(\"Describing the data:\",data.describe())"
   ]
  },
  {
   "cell_type": "code",
   "execution_count": 139,
   "id": "67ba9107",
   "metadata": {},
   "outputs": [],
   "source": [
    "X = data.drop(['Day','Sales ($)'], axis=1)\n",
    "y = data['Sales ($)']"
   ]
  },
  {
   "cell_type": "code",
   "execution_count": 140,
   "id": "b4213282",
   "metadata": {},
   "outputs": [
    {
     "data": {
      "text/plain": [
       "Index(['Day', 'TV Ad Budget ($)', 'Radio Ad Budget ($)',\n",
       "       'Newspaper Ad Budget ($)', 'Sales ($)'],\n",
       "      dtype='object')"
      ]
     },
     "execution_count": 140,
     "metadata": {},
     "output_type": "execute_result"
    }
   ],
   "source": [
    "data.columns"
   ]
  },
  {
   "cell_type": "code",
   "execution_count": 141,
   "id": "8d281d02",
   "metadata": {},
   "outputs": [
    {
     "data": {
      "image/png": "[encoded data removed]",
      "text/plain": [
       "<Figure size 900x300 with 3 Axes>"
      ]
     },
     "metadata": {},
     "output_type": "display_data"
    }
   ],
   "source": [
    "#Graphical representation of change in sales with respect to change in independent variable\n",
    "import matplotlib.pyplot as plt\n",
    "\n",
    "plt.figure(figsize=(9,3))\n",
    "\n",
    "plt.subplot(1,3,1)\n",
    "plt.scatter(data[\"TV Ad Budget ($)\"],y)\n",
    "plt.title(\"TV and Sales\")\n",
    "\n",
    "plt.subplot(1,3,2)\n",
    "plt.scatter(data['Radio Ad Budget ($)'],y)\n",
    "plt.title(\"Radio and Sales\")\n",
    "\n",
    "plt.subplot(1,3,3)\n",
    "plt.scatter(data['Newspaper Ad Budget ($)'],y)\n",
    "plt.title(\"Newspaper and Sales\")\n",
    "plt.show()"
   ]
  },
  {
   "cell_type": "markdown",
   "id": "e1ee1c25",
   "metadata": {},
   "source": [
    "### From the above graph, Sales is more influenced by TV ad budget more than Radio and Newspaper Ad Budget. But more specifically we cannot say howmuch is it influenced. So we go for correlation."
   ]
  },
  {
   "cell_type": "code",
   "execution_count": 142,
   "id": "b9b8d55a",
   "metadata": {},
   "outputs": [
    {
     "name": "stdout",
     "output_type": "stream",
     "text": [
      "Correlation of Sales and Independent variables:\n"
     ]
    },
    {
     "data": {
      "text/html": [
       "<div>\n",
       "<style scoped>\n",
       "    .dataframe tbody tr th:only-of-type {\n",
       "        vertical-align: middle;\n",
       "    }\n",
       "\n",
       "    .dataframe tbody tr th {\n",
       "        vertical-align: top;\n",
       "    }\n",
       "\n",
       "    .dataframe thead th {\n",
       "        text-align: right;\n",
       "    }\n",
       "</style>\n",
       "<table border=\"1\" class=\"dataframe\">\n",
       "  <thead>\n",
       "    <tr style=\"text-align: right;\">\n",
       "      <th></th>\n",
       "      <th>Day</th>\n",
       "      <th>TV Ad Budget ($)</th>\n",
       "      <th>Radio Ad Budget ($)</th>\n",
       "      <th>Newspaper Ad Budget ($)</th>\n",
       "      <th>Sales ($)</th>\n",
       "    </tr>\n",
       "  </thead>\n",
       "  <tbody>\n",
       "    <tr>\n",
       "      <th>Day</th>\n",
       "      <td>1.000000</td>\n",
       "      <td>0.017715</td>\n",
       "      <td>-0.110680</td>\n",
       "      <td>-0.154944</td>\n",
       "      <td>-0.051616</td>\n",
       "    </tr>\n",
       "    <tr>\n",
       "      <th>TV Ad Budget ($)</th>\n",
       "      <td>0.017715</td>\n",
       "      <td>1.000000</td>\n",
       "      <td>0.054809</td>\n",
       "      <td>0.056648</td>\n",
       "      <td>0.782224</td>\n",
       "    </tr>\n",
       "    <tr>\n",
       "      <th>Radio Ad Budget ($)</th>\n",
       "      <td>-0.110680</td>\n",
       "      <td>0.054809</td>\n",
       "      <td>1.000000</td>\n",
       "      <td>0.354104</td>\n",
       "      <td>0.576223</td>\n",
       "    </tr>\n",
       "    <tr>\n",
       "      <th>Newspaper Ad Budget ($)</th>\n",
       "      <td>-0.154944</td>\n",
       "      <td>0.056648</td>\n",
       "      <td>0.354104</td>\n",
       "      <td>1.000000</td>\n",
       "      <td>0.228299</td>\n",
       "    </tr>\n",
       "    <tr>\n",
       "      <th>Sales ($)</th>\n",
       "      <td>-0.051616</td>\n",
       "      <td>0.782224</td>\n",
       "      <td>0.576223</td>\n",
       "      <td>0.228299</td>\n",
       "      <td>1.000000</td>\n",
       "    </tr>\n",
       "  </tbody>\n",
       "</table>\n",
       "</div>"
      ],
      "text/plain": [
       "                              Day  TV Ad Budget ($)  Radio Ad Budget ($)  \\\n",
       "Day                      1.000000          0.017715            -0.110680   \n",
       "TV Ad Budget ($)         0.017715          1.000000             0.054809   \n",
       "Radio Ad Budget ($)     -0.110680          0.054809             1.000000   \n",
       "Newspaper Ad Budget ($) -0.154944          0.056648             0.354104   \n",
       "Sales ($)               -0.051616          0.782224             0.576223   \n",
       "\n",
       "                         Newspaper Ad Budget ($)  Sales ($)  \n",
       "Day                                    -0.154944  -0.051616  \n",
       "TV Ad Budget ($)                        0.056648   0.782224  \n",
       "Radio Ad Budget ($)                     0.354104   0.576223  \n",
       "Newspaper Ad Budget ($)                 1.000000   0.228299  \n",
       "Sales ($)                               0.228299   1.000000  "
      ]
     },
     "execution_count": 142,
     "metadata": {},
     "output_type": "execute_result"
    }
   ],
   "source": [
    "#Correlation of Sales with corresponding independent variable\n",
    "print(\"Correlation of Sales and Independent variables:\")\n",
    "data.corr()"
   ]
  },
  {
   "cell_type": "markdown",
   "id": "2ee93319",
   "metadata": {},
   "source": [
    "### From the above table the correlation between Sales and the independent variables are:\n",
    "#### corr(Sales, TV add Budget)=0.782224\n",
    "#### corr(Sales, Radio add Budget)=0.576223\n",
    "#### corr(Sales, Newspaper add Budget)=0.228299"
   ]
  },
  {
   "cell_type": "markdown",
   "id": "abef4641",
   "metadata": {},
   "source": [
    "### Hence, Sales is more influenced by TV add Budget"
   ]
  },
  {
   "cell_type": "code",
   "execution_count": 143,
   "id": "080c7b8a",
   "metadata": {},
   "outputs": [
    {
     "data": {
      "text/plain": [
       "Index(['Day', 'TV Ad Budget ($)', 'Radio Ad Budget ($)',\n",
       "       'Newspaper Ad Budget ($)', 'Sales ($)'],\n",
       "      dtype='object')"
      ]
     },
     "execution_count": 143,
     "metadata": {},
     "output_type": "execute_result"
    }
   ],
   "source": [
    "data.columns"
   ]
  },
  {
   "cell_type": "code",
   "execution_count": 162,
   "id": "35161a5a",
   "metadata": {},
   "outputs": [
    {
     "data": {
      "text/html": [
       "<table class=\"simpletable\">\n",
       "<caption>OLS Regression Results</caption>\n",
       "<tr>\n",
       "  <th>Dep. Variable:</th>        <td>Sales ($)</td>    <th>  R-squared:         </th> <td>   0.897</td>\n",
       "</tr>\n",
       "<tr>\n",
       "  <th>Model:</th>                   <td>OLS</td>       <th>  Adj. R-squared:    </th> <td>   0.896</td>\n",
       "</tr>\n",
       "<tr>\n",
       "  <th>Method:</th>             <td>Least Squares</td>  <th>  F-statistic:       </th> <td>   570.3</td>\n",
       "</tr>\n",
       "<tr>\n",
       "  <th>Date:</th>             <td>Tue, 27 Jun 2023</td> <th>  Prob (F-statistic):</th> <td>1.58e-96</td>\n",
       "</tr>\n",
       "<tr>\n",
       "  <th>Time:</th>                 <td>22:43:41</td>     <th>  Log-Likelihood:    </th> <td> -386.18</td>\n",
       "</tr>\n",
       "<tr>\n",
       "  <th>No. Observations:</th>      <td>   200</td>      <th>  AIC:               </th> <td>   780.4</td>\n",
       "</tr>\n",
       "<tr>\n",
       "  <th>Df Residuals:</th>          <td>   196</td>      <th>  BIC:               </th> <td>   793.6</td>\n",
       "</tr>\n",
       "<tr>\n",
       "  <th>Df Model:</th>              <td>     3</td>      <th>                     </th>     <td> </td>   \n",
       "</tr>\n",
       "<tr>\n",
       "  <th>Covariance Type:</th>      <td>nonrobust</td>    <th>                     </th>     <td> </td>   \n",
       "</tr>\n",
       "</table>\n",
       "<table class=\"simpletable\">\n",
       "<tr>\n",
       "             <td></td>                <th>coef</th>     <th>std err</th>      <th>t</th>      <th>P>|t|</th>  <th>[0.025</th>    <th>0.975]</th>  \n",
       "</tr>\n",
       "<tr>\n",
       "  <th>const</th>                   <td>    2.9389</td> <td>    0.312</td> <td>    9.422</td> <td> 0.000</td> <td>    2.324</td> <td>    3.554</td>\n",
       "</tr>\n",
       "<tr>\n",
       "  <th>TV Ad Budget ($)</th>        <td>    0.0458</td> <td>    0.001</td> <td>   32.809</td> <td> 0.000</td> <td>    0.043</td> <td>    0.049</td>\n",
       "</tr>\n",
       "<tr>\n",
       "  <th>Radio Ad Budget ($)</th>     <td>    0.1885</td> <td>    0.009</td> <td>   21.893</td> <td> 0.000</td> <td>    0.172</td> <td>    0.206</td>\n",
       "</tr>\n",
       "<tr>\n",
       "  <th>Newspaper Ad Budget ($)</th> <td>   -0.0010</td> <td>    0.006</td> <td>   -0.177</td> <td> 0.860</td> <td>   -0.013</td> <td>    0.011</td>\n",
       "</tr>\n",
       "</table>\n",
       "<table class=\"simpletable\">\n",
       "<tr>\n",
       "  <th>Omnibus:</th>       <td>60.414</td> <th>  Durbin-Watson:     </th> <td>   2.084</td>\n",
       "</tr>\n",
       "<tr>\n",
       "  <th>Prob(Omnibus):</th> <td> 0.000</td> <th>  Jarque-Bera (JB):  </th> <td> 151.241</td>\n",
       "</tr>\n",
       "<tr>\n",
       "  <th>Skew:</th>          <td>-1.327</td> <th>  Prob(JB):          </th> <td>1.44e-33</td>\n",
       "</tr>\n",
       "<tr>\n",
       "  <th>Kurtosis:</th>      <td> 6.332</td> <th>  Cond. No.          </th> <td>    454.</td>\n",
       "</tr>\n",
       "</table><br/><br/>Notes:<br/>[1] Standard Errors assume that the covariance matrix of the errors is correctly specified."
      ],
      "text/plain": [
       "<class 'statsmodels.iolib.summary.Summary'>\n",
       "\"\"\"\n",
       "                            OLS Regression Results                            \n",
       "==============================================================================\n",
       "Dep. Variable:              Sales ($)   R-squared:                       0.897\n",
       "Model:                            OLS   Adj. R-squared:                  0.896\n",
       "Method:                 Least Squares   F-statistic:                     570.3\n",
       "Date:                Tue, 27 Jun 2023   Prob (F-statistic):           1.58e-96\n",
       "Time:                        22:43:41   Log-Likelihood:                -386.18\n",
       "No. Observations:                 200   AIC:                             780.4\n",
       "Df Residuals:                     196   BIC:                             793.6\n",
       "Df Model:                           3                                         \n",
       "Covariance Type:            nonrobust                                         \n",
       "===========================================================================================\n",
       "                              coef    std err          t      P>|t|      [0.025      0.975]\n",
       "-------------------------------------------------------------------------------------------\n",
       "const                       2.9389      0.312      9.422      0.000       2.324       3.554\n",
       "TV Ad Budget ($)            0.0458      0.001     32.809      0.000       0.043       0.049\n",
       "Radio Ad Budget ($)         0.1885      0.009     21.893      0.000       0.172       0.206\n",
       "Newspaper Ad Budget ($)    -0.0010      0.006     -0.177      0.860      -0.013       0.011\n",
       "==============================================================================\n",
       "Omnibus:                       60.414   Durbin-Watson:                   2.084\n",
       "Prob(Omnibus):                  0.000   Jarque-Bera (JB):              151.241\n",
       "Skew:                          -1.327   Prob(JB):                     1.44e-33\n",
       "Kurtosis:                       6.332   Cond. No.                         454.\n",
       "==============================================================================\n",
       "\n",
       "Notes:\n",
       "[1] Standard Errors assume that the covariance matrix of the errors is correctly specified.\n",
       "\"\"\""
      ]
     },
     "execution_count": 162,
     "metadata": {},
     "output_type": "execute_result"
    }
   ],
   "source": [
    "#OLS regression result\n",
    "import statsmodels.api as sm\n",
    "x=data[\"TV Ad Budget ($)\"]\n",
    "X = sm.add_constant(X)\n",
    "model1 = sm.OLS(y,X).fit()\n",
    "model1.summary()"
   ]
  },
  {
   "cell_type": "markdown",
   "id": "f4f9eeec",
   "metadata": {},
   "source": [
    "### From the above result it is clear that Adj. R-squared is 0.896. This means that approximately 90% of the total variation in the data can be explained by the model. This also means that the model doesnot account for 10% of the data. This may be due to noice or missing variable."
   ]
  },
  {
   "cell_type": "markdown",
   "id": "e3d66657",
   "metadata": {},
   "source": [
    "### Since p-values(Prob (F-statistic)=1.58e-96) is close to zero, there is atleast one predictor in the model that is a good predictor of sales"
   ]
  },
  {
   "cell_type": "markdown",
   "id": "7dcf29dc",
   "metadata": {},
   "source": [
    "### If you look at the column, P>|t|, you can see the p_values for each predictor. The p_value of Newspaper Ad budget is 0.86, which indicates that spending on Newspaper Ad has very less, infact no impact on sales. "
   ]
  },
  {
   "cell_type": "code",
   "execution_count": 145,
   "id": "e473bd98",
   "metadata": {},
   "outputs": [
    {
     "data": {
      "text/plain": [
       "Index(['Day', 'TV Ad Budget ($)', 'Radio Ad Budget ($)',\n",
       "       'Newspaper Ad Budget ($)', 'Sales ($)'],\n",
       "      dtype='object')"
      ]
     },
     "execution_count": 145,
     "metadata": {},
     "output_type": "execute_result"
    }
   ],
   "source": [
    "data.columns"
   ]
  },
  {
   "cell_type": "code",
   "execution_count": 146,
   "id": "64905488",
   "metadata": {},
   "outputs": [
    {
     "name": "stdout",
     "output_type": "stream",
     "text": [
      "[ 0.          0.04576465  0.18853002 -0.00103749]\n",
      "2.9388893694594103\n"
     ]
    }
   ],
   "source": [
    "from sklearn.linear_model import LinearRegression\n",
    "model = LinearRegression()\n",
    "model.fit(X,y)\n",
    "print(model.coef_)\n",
    "print(model.intercept_)"
   ]
  },
  {
   "cell_type": "code",
   "execution_count": 147,
   "id": "fa4e2a7b",
   "metadata": {},
   "outputs": [],
   "source": [
    "from sklearn.model_selection import train_test_split\n",
    "X_train,X_test,y_train,y_test=train_test_split(X,y,random_state=45,test_size=0.1)"
   ]
  },
  {
   "cell_type": "code",
   "execution_count": 148,
   "id": "77efe4e7",
   "metadata": {},
   "outputs": [
    {
     "name": "stdout",
     "output_type": "stream",
     "text": [
      "Shape of X_train: (180, 4)\n",
      "Shape of X_test: (20, 4)\n",
      "Shape of y_train: (180,)\n",
      "Shape of y_test: (20,)\n"
     ]
    }
   ],
   "source": [
    "print(\"Shape of X_train:\",X_train.shape)\n",
    "print(\"Shape of X_test:\",X_test.shape)\n",
    "print(\"Shape of y_train:\",y_train.shape)\n",
    "print(\"Shape of y_test:\",y_test.shape)"
   ]
  },
  {
   "cell_type": "code",
   "execution_count": 149,
   "id": "a448cc05",
   "metadata": {},
   "outputs": [],
   "source": [
    "#fit the model for training data\n",
    "model.fit(X_train,y_train)\n",
    "y_train_pred=model.predict(X_train)"
   ]
  },
  {
   "cell_type": "code",
   "execution_count": 150,
   "id": "5a82412b",
   "metadata": {},
   "outputs": [
    {
     "name": "stdout",
     "output_type": "stream",
     "text": [
      "R2 value of training data: 0.8847431211097566\n",
      "Mean Square Error of training data: 2.8778003093412456\n",
      "Adjusted Rsquare of Training data: 0.8821086781636939\n"
     ]
    }
   ],
   "source": [
    "#calculate rsquare and MSE for taining data\n",
    "from sklearn.metrics import r2_score, mean_squared_error\n",
    "r2_score_train_data = r2_score(y_train_pred,y_train)\n",
    "n1=len(X_train)\n",
    "k1=X_train.shape[1]\n",
    "adj_r2_training = 1 - ((1-r2_score_train_data)*(n1-1)/(n1-k1-1))\n",
    "mse_training_data = mean_squared_error(y_train,y_train_pred)\n",
    "print(\"R2 value of training data:\",r2_score_train_data)\n",
    "print(\"Mean Square Error of training data:\",mse_training_data)\n",
    "print(\"Adjusted Rsquare of Training data:\",adj_r2_training)"
   ]
  },
  {
   "cell_type": "code",
   "execution_count": 151,
   "id": "7bf1037e",
   "metadata": {},
   "outputs": [],
   "source": [
    "#fit the model for training data\n",
    "model.fit(X_test,y_test)\n",
    "y_test_pred=model.predict(X_test)"
   ]
  },
  {
   "cell_type": "code",
   "execution_count": 152,
   "id": "8acc10eb",
   "metadata": {},
   "outputs": [
    {
     "name": "stdout",
     "output_type": "stream",
     "text": [
      "R2 value of training data: 0.9059234358020634\n",
      "Mean Square Error of training data: 1.73302657534138\n",
      "Adjusted Rsquare of Testing data: 0.8808363520159469\n"
     ]
    }
   ],
   "source": [
    "#calculate rsquare and MSE for test data\n",
    "r2_score_test_data = r2_score(y_test_pred,y_test)\n",
    "mse_testing_data = mean_squared_error(y_test,y_test_pred)\n",
    "n2=len(X_test)\n",
    "k2=X_test.shape[1]\n",
    "adj_r2_testing = 1 - ((1-r2_score_test_data)*(n2-1)/(n2-k2-1))\n",
    "print(\"R2 value of training data:\",r2_score_test_data)\n",
    "print(\"Mean Square Error of training data:\",mse_testing_data)\n",
    "print(\"Adjusted Rsquare of Testing data:\",adj_r2_testing)"
   ]
  },
  {
   "cell_type": "code",
   "execution_count": 163,
   "id": "2616100a",
   "metadata": {},
   "outputs": [
    {
     "name": "stdout",
     "output_type": "stream",
     "text": [
      "Predicted sales: [11.80164961]\n"
     ]
    },
    {
     "name": "stderr",
     "output_type": "stream",
     "text": [
      "C:\\Users\\Lenovo\\anaconda3\\lib\\site-packages\\sklearn\\base.py:450: UserWarning: X does not have valid feature names, but LinearRegression was fitted with feature names\n",
      "  warnings.warn(\n"
     ]
    }
   ],
   "source": [
    "#for new data\n",
    "new_data = (1,57.5,32.8,23.5)\n",
    "#Convert it into an array\n",
    "import numpy as np\n",
    "new_data_np_array = np.asarray(new_data)\n",
    "\n",
    "#Reshape the data\n",
    "new_data_reshape=new_data_np_array.reshape(1,-1)\n",
    "\n",
    "#fit the new data to the Naive Bayes model\n",
    "prediction = model.predict(new_data_reshape)\n",
    "print(\"Predicted sales:\",prediction)\n"
   ]
  },
  {
   "cell_type": "code",
   "execution_count": null,
   "id": "419fdd4c",
   "metadata": {},
   "outputs": [],
   "source": []
  }
 ],
 "metadata": {
  "kernelspec": {
   "display_name": "Python 3 (ipykernel)",
   "language": "python",
   "name": "python3"
  },
  "language_info": {
   "codemirror_mode": {
    "name": "ipython",
    "version": 3
   },
   "file_extension": ".py",
   "mimetype": "text/x-python",
   "name": "python",
   "nbconvert_exporter": "python",
   "pygments_lexer": "ipython3",
   "version": "3.9.13"
  }
 },
 "nbformat": 4,
 "nbformat_minor": 5
}
